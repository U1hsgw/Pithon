{
 "cells": [
  {
   "cell_type": "code",
   "execution_count": 16,
   "id": "72e265ca",
   "metadata": {},
   "outputs": [],
   "source": [
    "#エクセルを使えるようにするライブラリ\n",
    "import openpyxl\n",
    "\n",
    "#元データのファイルパス\n",
    "path = r\"C:\\\\Users\\\\yhase\\\\OneDrive\\\\デスクトップ\\\\PIthon\\\\Test1026.xlsx\"\n",
    "\n",
    "#開くエクセルファイルを指定\n",
    "wb = openpyxl.load_workbook(path)\n",
    "\n",
    "#使うシートを選択\n",
    "ws = wb.worksheets[0] \n",
    "\n",
    "\n",
    "#ここからグラフの設定\n",
    "#グラフの種類\n",
    "chart = openpyxl.chart.BarChart()\n",
    "#グラフタイトル\n",
    "chart.title = \"棒グラフ\"\n",
    "#棒の高さ\n",
    "chart.height = 7.5\n",
    "#棒の幅\n",
    "chart.width = 15\n",
    "#Y軸ラベル\n",
    "chart.y_axis.title = '労働時間'\n",
    "#X軸ラベル\n",
    "chart.x_axis.title = '監視対象者'\n",
    "#ここまでグラフの設定\n",
    "\n",
    "    \n",
    "#グラフに使うデータ範囲を指定\n",
    "data = openpyxl.chart.Reference(ws, min_col=5, max_col=5, min_row=1, max_row=4)\n",
    "#指定したデータ範囲のうち、先頭行を系列名として使用\n",
    "chart.add_data(data, titles_from_data=True)\n",
    "\n",
    "#項目名に使うデータ範囲を指定\n",
    "categories = openpyxl.chart.Reference(ws, min_col=1, max_col=1, min_row=2, max_row=4)\n",
    "chart.set_categories(categories)\n",
    "\n",
    "#グラフを指定のセルに貼り付けて保存\n",
    "ws.add_chart(chart, \"A8\")\n",
    "wb.save(path)"
   ]
  },
  {
   "cell_type": "code",
   "execution_count": null,
   "id": "0f22d08c",
   "metadata": {},
   "outputs": [],
   "source": []
  }
 ],
 "metadata": {
  "kernelspec": {
   "display_name": "Python 3 (ipykernel)",
   "language": "python",
   "name": "python3"
  },
  "language_info": {
   "codemirror_mode": {
    "name": "ipython",
    "version": 3
   },
   "file_extension": ".py",
   "mimetype": "text/x-python",
   "name": "python",
   "nbconvert_exporter": "python",
   "pygments_lexer": "ipython3",
   "version": "3.9.13"
  }
 },
 "nbformat": 4,
 "nbformat_minor": 5
}
